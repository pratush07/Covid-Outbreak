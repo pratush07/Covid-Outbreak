{
 "cells": [
  {
   "cell_type": "code",
   "execution_count": null,
   "id": "7d6d4720-ad39-42a6-935d-bb7df391b218",
   "metadata": {},
   "outputs": [],
   "source": [
    "import numpy as np\n",
    "import pandas as pd\n",
    "import matplotlib.pyplot as plt"
   ]
  },
  {
   "cell_type": "code",
   "execution_count": null,
   "id": "1495aa8d-b40b-46ea-8285-aa1b86574bd9",
   "metadata": {},
   "outputs": [],
   "source": [
    "df_cases = pd.read_csv(\"Cases.csv\", encoding= 'unicode_escape')\n",
    "df_deaths = pd.read_csv(\"Deaths.csv\", encoding= 'unicode_escape')"
   ]
  },
  {
   "cell_type": "code",
   "execution_count": null,
   "id": "34057fc0-3af4-4093-bfab-240806d50cf7",
   "metadata": {},
   "outputs": [],
   "source": [
    "# clean cases data and convert them to numeric\n",
    "df_cases = df_cases.applymap(lambda x: x.strip())\n",
    "df_cases = df_cases.applymap(lambda x: x.replace(\",\", \"\"))\n",
    "df_cases = df_cases.applymap(lambda x: x.replace(\"..\", \"\"))\n",
    "\n",
    "cols = df_cases.columns[1:]\n",
    "for col in cols:\n",
    "    df_cases[col] = pd.to_numeric(df_cases[col],errors='coerce')\n",
    "\n",
    "df_cases = df_cases.fillna(0)"
   ]
  },
  {
   "cell_type": "code",
   "execution_count": null,
   "id": "fd724b6d-df12-4444-b95f-25eb4d2a3a74",
   "metadata": {},
   "outputs": [],
   "source": [
    "df_deaths = df_deaths.fillna(0)"
   ]
  },
  {
   "cell_type": "code",
   "execution_count": null,
   "id": "c92a9525-b05e-454c-b5e0-360ea7f55161",
   "metadata": {},
   "outputs": [],
   "source": [
    "df_cases.describe()"
   ]
  },
  {
   "cell_type": "code",
   "execution_count": null,
   "id": "76e410a2-1ea6-426b-90ee-ba4402c76521",
   "metadata": {},
   "outputs": [],
   "source": [
    "df_deaths.describe()"
   ]
  },
  {
   "cell_type": "code",
   "execution_count": null,
   "id": "eee4196a-0c76-4dae-9953-51a38b4d1e86",
   "metadata": {},
   "outputs": [],
   "source": [
    "# showing covid cases cases \n",
    "for col in df_cases.columns[1:]:\n",
    "    figure = plt.gcf()\n",
    "    figure.set_size_inches(30, 20)\n",
    "    plt.xticks(rotation=90)\n",
    "    plt.bar(df_cases['Date'], df_cases[col], width=0.35)\n",
    "    plt.show()"
   ]
  },
  {
   "cell_type": "code",
   "execution_count": null,
   "id": "d2e5dbff-e001-4456-9de2-6bc0a91ef1f7",
   "metadata": {},
   "outputs": [],
   "source": [
    "# showing covid cases cases \n",
    "for col in df_deaths.columns[1:]:\n",
    "    figure = plt.gcf()\n",
    "    figure.set_size_inches(30, 20)\n",
    "    plt.xticks(rotation=90)\n",
    "    plt.bar(df_deaths['Date'], df_deaths[col], width=0.35)\n",
    "    plt.show()"
   ]
  },
  {
   "cell_type": "code",
   "execution_count": null,
   "id": "6aea0f25-78c2-468d-a778-0ff9e9c713b0",
   "metadata": {},
   "outputs": [],
   "source": [
    "df_detailed.describe()"
   ]
  },
  {
   "cell_type": "code",
   "execution_count": null,
   "id": "b69ef263-1213-43ff-a030-050ccddd8003",
   "metadata": {},
   "outputs": [],
   "source": []
  }
 ],
 "metadata": {
  "kernelspec": {
   "display_name": "Python 3 (ipykernel)",
   "language": "python",
   "name": "python3"
  },
  "language_info": {
   "codemirror_mode": {
    "name": "ipython",
    "version": 3
   },
   "file_extension": ".py",
   "mimetype": "text/x-python",
   "name": "python",
   "nbconvert_exporter": "python",
   "pygments_lexer": "ipython3",
   "version": "3.8.2"
  }
 },
 "nbformat": 4,
 "nbformat_minor": 5
}
